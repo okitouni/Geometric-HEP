{
 "cells": [
  {
   "cell_type": "code",
   "execution_count": 1,
   "metadata": {
    "ExecuteTime": {
     "end_time": "2020-11-22T01:50:47.481187Z",
     "start_time": "2020-11-22T01:50:47.167951Z"
    }
   },
   "outputs": [],
   "source": [
    "import pythia8\n",
    "from matplotlib import pyplot as plt\n",
    "plt.style.use(\"dark_paper\")"
   ]
  },
  {
   "cell_type": "code",
   "execution_count": 52,
   "metadata": {
    "ExecuteTime": {
     "end_time": "2020-11-22T02:18:22.758713Z",
     "start_time": "2020-11-22T02:18:22.748214Z"
    },
    "code_folding": [
     0,
     7
    ]
   },
   "outputs": [],
   "source": [
    "def prtStable(pid):\n",
    "    if abs(pid) == 211: return True\n",
    "    if abs(pid) == 321: return True\n",
    "    if abs(pid) == 11: return True\n",
    "    if abs(pid) == 13: return True\n",
    "    if abs(pid) == 2212: return True\n",
    "    return False\n",
    "def heavyFlavor(pid):\n",
    "    if abs(pid) == 411: return True\n",
    "    if abs(pid) == 421: return True\n",
    "    if abs(pid) == 431: return True\n",
    "    if abs(pid) == 4122: return True\n",
    "    if abs(pid) == 511: return True\n",
    "    if abs(pid) == 521: return True\n",
    "    if abs(pid) == 531: return True\n",
    "    if abs(pid) == 5122: return True\n",
    "    return False\n",
    "def getInfo(prt):\n",
    "    return \"{:^2d} {:^11s} {:^5d} {:^6d}  {:<2d} {:>2d}   {:<2d} {:>2d}  {:^20s}\".format(prt.index(),prt.name(),prt.id(),\n",
    "                                                                       prt.status(),\n",
    "                                                                       prt.mother1(),prt.mother2(),\n",
    "                                                                       prt.daughter1(),prt.daughter2(),\n",
    "                                                                       str(prt.p()))"
   ]
  },
  {
   "cell_type": "code",
   "execution_count": 3,
   "metadata": {
    "ExecuteTime": {
     "end_time": "2020-11-22T01:50:47.498873Z",
     "start_time": "2020-11-22T01:50:47.488496Z"
    },
    "code_folding": [
     0
    ]
   },
   "outputs": [],
   "source": [
    "# Beam energies, minimal Q2, number of events to generate.\n",
    "eProton = 7000.\n",
    "eElectron = 500.\n",
    "Q2min = 100.\n",
    "nEvent = 1"
   ]
  },
  {
   "cell_type": "code",
   "execution_count": 4,
   "metadata": {
    "ExecuteTime": {
     "end_time": "2020-11-22T01:50:47.622362Z",
     "start_time": "2020-11-22T01:50:47.499850Z"
    },
    "code_folding": [
     0
    ]
   },
   "outputs": [
    {
     "data": {
      "text/plain": [
       "True"
      ]
     },
     "execution_count": 4,
     "metadata": {},
     "output_type": "execute_result"
    }
   ],
   "source": [
    "# Setup Pythia Parameters\n",
    "# Generator. Shorthand for event.\n",
    "pythia = pythia8.Pythia()\n",
    "\n",
    "# Set up incoming beams, for frame with unequal beam energies.\n",
    "pythia.readString(\"Beams:frameType = 2\")\n",
    "# BeamA = proton.\n",
    "pythia.readString(\"Beams:idA = 2212\")\n",
    "pythia.settings.parm(\"Beams:eA\", eProton)\n",
    "# BeamB = electron.\n",
    "pythia.readString(\"Beams:idB = 11\")\n",
    "pythia.settings.parm(\"Beams:eB\", eElectron)\n",
    "\n",
    "# Set up DIS process within some phase space.\n",
    "# Neutral current (with gamma/Z interference).\n",
    "pythia.readString(\"WeakBosonExchange:ff2ff(t:gmZ) = on\")\n",
    "# Uncomment to allow charged current.\n",
    "#pythia.readString(\"WeakBosonExchange:ff2ff(t:W) = on\");\n",
    "# Phase-space cut: minimal Q2 of process.\n",
    "pythia.settings.parm(\"PhaseSpace:Q2Min\", Q2min)\n",
    "\n",
    "# Set dipole recoil on. Necessary for DIS + shower.\n",
    "pythia.readString(\"SpaceShower:dipoleRecoil = on\")\n",
    "\n",
    "# Allow emissions up to the kinematical limit,\n",
    "# since rate known to match well to matrix elements everywhere.\n",
    "pythia.readString(\"SpaceShower:pTmaxMatch = 2\")\n",
    "\n",
    "# QED radiation off lepton not handled yet by the new procedure.\n",
    "pythia.readString(\"PDF:lepton = off\")\n",
    "pythia.readString(\"TimeShower:QEDshowerByL = off\")"
   ]
  },
  {
   "cell_type": "code",
   "execution_count": 5,
   "metadata": {
    "ExecuteTime": {
     "end_time": "2020-11-22T01:50:47.837991Z",
     "start_time": "2020-11-22T01:50:47.623517Z"
    },
    "code_folding": [
     0
    ]
   },
   "outputs": [
    {
     "name": "stdout",
     "output_type": "stream",
     "text": [
      "Pythia generator initialized successfully:  True\n",
      "event generated\n"
     ]
    }
   ],
   "source": [
    "# Initialize.\n",
    "print(\"Pythia generator initialized successfully: \", pythia.init())\n",
    "pythia.next()\n",
    "print(\"event generated\")\n",
    "event = pythia.event  "
   ]
  },
  {
   "cell_type": "code",
   "execution_count": 55,
   "metadata": {
    "ExecuteTime": {
     "end_time": "2020-11-22T02:19:26.412975Z",
     "start_time": "2020-11-22T02:19:26.408842Z"
    },
    "code_folding": []
   },
   "outputs": [],
   "source": [
    "%%capture out\n",
    "print((\"{:^2s} {:^11s} {:^5s} {:^6s} {:^8s} {:^8s}  \" + 5*\"{:^10s}\").format(\"N\",\"NAME\",\"ID\",\"STATUS\",\"PARENTS\",\"CHILD\",\"E\", \"px\", \"py\", \"pz\" , \"m\"))\n",
    "for prt in event:\n",
    "    print(getInfo(prt))"
   ]
  },
  {
   "cell_type": "code",
   "execution_count": 56,
   "metadata": {
    "ExecuteTime": {
     "end_time": "2020-11-22T02:19:28.638030Z",
     "start_time": "2020-11-22T02:19:28.634681Z"
    },
    "code_folding": []
   },
   "outputs": [
    {
     "name": "stdout",
     "output_type": "stream",
     "text": [
      "N     NAME      ID   STATUS PARENTS   CHILD        E         px        py        pz        m     \n",
      "0    system     90    -11    0   0   0   0      -0.000    -0.000  6500.000  7500.000 ( 3741.657)\n",
      "\n",
      "1      p+      2212   -12    0   0   7   0       0.000     0.000  7000.000  7000.000 (    0.938)\n",
      "\n",
      "2      e-       11    -12    0   0   4   0      -0.000    -0.000  -500.000   500.000 (    0.001)\n",
      "\n",
      "3     sbar      -3    -21    7   7   5   6       0.000     0.000     3.310     3.310 (    0.000)\n",
      "\n",
      "4      e-       11    -21    2   0   5   6      -0.000    -0.000  -500.000   500.000 (    0.000)\n",
      "\n",
      "5     sbar      -3    -23    3   4   8   8     -11.069   -13.506   -21.075    27.374 (    0.500)\n",
      "\n",
      "6      e-       11     23    3   4   0   0      11.069    13.506  -475.615   475.936 (    0.001)\n",
      "\n",
      "7     sbar      -3    -61    1   0   3   3       0.595    -0.276     3.213     3.280 (    0.000)\n",
      "\n",
      "8     sbar      -3    -62    5   5   12 12     -10.459   -13.764   -21.138    27.311 (    0.500)\n",
      "\n",
      "9    Lambda0   3122   -63    1   0   38 39      -0.183    -0.075  3403.939  3403.939 (    1.116)\n",
      "\n",
      "10      u        2    -63    1   0   11 11      -0.426     0.333  3592.814  3592.814 (    0.330)\n",
      "\n",
      "11      u        2    -71    10 10   13 30      -0.426     0.333  3592.814  3592.814 (    0.330)\n",
      "\n",
      "12    sbar      -3    -71    8   8   13 30     -10.459   -13.764   -21.138    27.311 (    0.500)\n",
      "\n",
      "13     pi+      211    83    11 12   0   0      -0.084    -0.150   115.866   115.866 (    0.140)\n",
      "\n",
      "14     pi-     -211    83    11 12   0   0      -0.779     0.403  2471.175  2471.176 (    0.140)\n",
      "\n",
      "15     pi+      211    83    11 12   0   0       0.132     0.314   540.114   540.114 (    0.140)\n",
      "\n",
      "16     pi-     -211    83    11 12   0   0       0.183     0.157   187.183   187.184 (    0.140)\n",
      "\n",
      "17     pi+      211    83    11 12   0   0       0.377    -0.590   119.634   119.636 (    0.140)\n",
      "\n",
      "18     pi-     -211    83    11 12   0   0       0.036     0.182    32.048    32.048 (    0.140)\n",
      "\n",
      "19    rho0      113   -83    11 12   31 32      -0.245    -0.002    67.903    67.908 (    0.733)\n",
      "\n",
      "20     pi+      211    83    11 12   0   0       0.173     0.109     4.223     4.230 (    0.140)\n",
      "\n",
      "21     pi0      111   -83    11 12   40 41      -0.047    -0.166    30.851    30.852 (    0.135)\n",
      "\n",
      "22     pi-     -211    83    11 12   0   0      -0.459     0.178    11.648    11.660 (    0.140)\n",
      "\n",
      "23    rho+      213   -84    11 12   33 34       0.072    -0.122     1.635     1.775 (    0.676)\n",
      "\n",
      "24     n0      2112    84    11 12   0   0       0.784    -0.780     3.998     4.253 (    0.940)\n",
      "\n",
      "25     pi0      111   -84    11 12   42 43      -0.727     0.968     5.481     5.614 (    0.135)\n",
      "\n",
      "26  Deltabar0  -2114  -84    11 12   35 36      -0.789    -0.390    -0.194     1.524 (    1.229)\n",
      "\n",
      "27     pi-     -211    84    11 12   0   0      -0.294    -1.240    -1.557     2.017 (    0.140)\n",
      "\n",
      "28     pi+      211    84    11 12   0   0       0.187    -0.292    -0.326     0.496 (    0.140)\n",
      "\n",
      "29     eta      221   -84    11 12   44 46      -1.441    -1.243    -1.358     2.401 (    0.548)\n",
      "\n",
      "30     K0       311   -84    11 12   37 37      -7.964   -10.765   -16.648    21.372 (    0.498)\n",
      "\n",
      "31     pi+      211    91    19  0   0   0       0.121    -0.060    48.288    48.289 (    0.140)\n",
      "\n",
      "32     pi-     -211    91    19  0   0   0      -0.366     0.058    19.615    19.619 (    0.140)\n",
      "\n",
      "33     pi+      211    91    23  0   0   0      -0.063    -0.342     0.682     0.778 (    0.140)\n",
      "\n",
      "34     pi0      111   -91    23  0   47 48       0.135     0.221     0.954     0.997 (    0.135)\n",
      "\n",
      "35    pbar-    -2212   91    26  0   0   0      -0.556    -0.271    -0.364     1.181 (    0.938)\n",
      "\n",
      "36     pi+      211    91    26  0   0   0      -0.234    -0.119     0.171     0.343 (    0.140)\n",
      "\n",
      "37    K_L0      130    91    30 30   0   0      -7.964   -10.765   -16.648    21.372 (    0.498)\n",
      "\n",
      "38     n0      2112    91    9   0   0   0      -0.133     0.018  2673.204  2673.204 (    0.940)\n",
      "\n",
      "39     pi0      111   -91    9   0   49 50      -0.051    -0.093   730.735   730.735 (    0.135)\n",
      "\n",
      "40    gamma     22     91    21  0   0   0      -0.063    -0.045    18.748    18.748 (    0.000)\n",
      "\n",
      "41    gamma     22     91    21  0   0   0       0.016    -0.122    12.103    12.103 (   -0.000)\n",
      "\n",
      "42    gamma     22     91    25  0   0   0      -0.595     0.804     4.742     4.847 (    0.000)\n",
      "\n",
      "43    gamma     22     91    25  0   0   0      -0.132     0.163     0.739     0.768 (   -0.000)\n",
      "\n",
      "44     pi0      111   -91    29  0   51 52      -0.614    -0.583    -0.772     1.154 (    0.135)\n",
      "\n",
      "45     pi0      111   -91    29  0   53 54      -0.484    -0.438    -0.302     0.732 (    0.135)\n",
      "\n",
      "46     pi0      111   -91    29  0   55 57      -0.343    -0.221    -0.284     0.515 (    0.135)\n",
      "\n",
      "47    gamma     22     91    34  0   0   0       0.108     0.051     0.384     0.403 (    0.000)\n",
      "\n",
      "48    gamma     22     91    34  0   0   0       0.027     0.170     0.569     0.595 (    0.000)\n",
      "\n",
      "49    gamma     22     91    39  0   0   0      -0.073    -0.117   560.069   560.069 (    0.000)\n",
      "\n",
      "50    gamma     22     91    39  0   0   0       0.022     0.024   170.666   170.666 (   -0.000)\n",
      "\n",
      "51    gamma     22     91    44  0   0   0      -0.009    -0.046    -0.026     0.053 (    0.000)\n",
      "\n",
      "52    gamma     22     91    44  0   0   0      -0.605    -0.538    -0.746     1.101 (    0.000)\n",
      "\n",
      "53    gamma     22     91    45  0   0   0      -0.381    -0.385    -0.293     0.616 (    0.000)\n",
      "\n",
      "54    gamma     22     91    45  0   0   0      -0.102    -0.054    -0.009     0.116 (    0.000)\n",
      "\n",
      "55    gamma     22     91    46  0   0   0      -0.181    -0.070    -0.068     0.205 (    0.000)\n",
      "\n",
      "56     e-       11     91    46  0   0   0      -0.137    -0.129    -0.182     0.262 (    0.001)\n",
      "\n",
      "57     e+       -11    91    46  0   0   0      -0.025    -0.022    -0.034     0.048 (    0.001)\n",
      "\n",
      "\n"
     ]
    }
   ],
   "source": [
    "# with open(\"./event.txt\",\"a\") as f:\n",
    "#     f.write(out.stdout)\n",
    "print(out.stdout)"
   ]
  },
  {
   "cell_type": "markdown",
   "metadata": {},
   "source": [
    "#### Run Selections"
   ]
  },
  {
   "cell_type": "code",
   "execution_count": 59,
   "metadata": {
    "ExecuteTime": {
     "end_time": "2020-11-22T02:21:43.907897Z",
     "start_time": "2020-11-22T02:21:43.899474Z"
    }
   },
   "outputs": [
    {
     "name": "stdout",
     "output_type": "stream",
     "text": [
      "N     NAME      ID   STATUS PARENTS   CHILD        E         px        py        pz        m     \n",
      "6      e-       11     23    3   4   0   0      11.069    13.506  -475.615   475.936 (    0.001)\n",
      "\n",
      "13     pi+      211    83    11 12   0   0      -0.084    -0.150   115.866   115.866 (    0.140)\n",
      "\n",
      "14     pi-     -211    83    11 12   0   0      -0.779     0.403  2471.175  2471.176 (    0.140)\n",
      "\n",
      "15     pi+      211    83    11 12   0   0       0.132     0.314   540.114   540.114 (    0.140)\n",
      "\n",
      "16     pi-     -211    83    11 12   0   0       0.183     0.157   187.183   187.184 (    0.140)\n",
      "\n",
      "17     pi+      211    83    11 12   0   0       0.377    -0.590   119.634   119.636 (    0.140)\n",
      "\n",
      "18     pi-     -211    83    11 12   0   0       0.036     0.182    32.048    32.048 (    0.140)\n",
      "\n",
      "20     pi+      211    83    11 12   0   0       0.173     0.109     4.223     4.230 (    0.140)\n",
      "\n",
      "22     pi-     -211    83    11 12   0   0      -0.459     0.178    11.648    11.660 (    0.140)\n",
      "\n",
      "27     pi-     -211    84    11 12   0   0      -0.294    -1.240    -1.557     2.017 (    0.140)\n",
      "\n",
      "28     pi+      211    84    11 12   0   0       0.187    -0.292    -0.326     0.496 (    0.140)\n",
      "\n",
      "31     pi+      211    91    19  0   0   0       0.121    -0.060    48.288    48.289 (    0.140)\n",
      "\n",
      "32     pi-     -211    91    19  0   0   0      -0.366     0.058    19.615    19.619 (    0.140)\n",
      "\n",
      "33     pi+      211    91    23  0   0   0      -0.063    -0.342     0.682     0.778 (    0.140)\n",
      "\n",
      "35    pbar-    -2212   91    26  0   0   0      -0.556    -0.271    -0.364     1.181 (    0.938)\n",
      "\n",
      "36     pi+      211    91    26  0   0   0      -0.234    -0.119     0.171     0.343 (    0.140)\n",
      "\n",
      "56     e-       11     91    46  0   0   0      -0.137    -0.129    -0.182     0.262 (    0.001)\n",
      "\n",
      "57     e+       -11    91    46  0   0   0      -0.025    -0.022    -0.034     0.048 (    0.001)\n",
      "\n",
      "18 total final particles\n"
     ]
    }
   ],
   "source": [
    "print((\"{:^2s} {:^11s} {:^5s} {:^6s} {:^8s} {:^8s}  \" + 5*\"{:^10s}\").format(\"N\",\"NAME\",\"ID\",\"STATUS\",\"PARENTS\",\"CHILD\",\"E\", \"px\", \"py\", \"pz\" , \"m\"))\n",
    "n_final = -0\n",
    "for prt in event:\n",
    "    if prtStable(prt.id()) and prt.isFinal() and prt.isCharged() and prt.vProd().pAbs()<1:\n",
    "        print(getInfo(prt))\n",
    "        n_final += 1\n",
    "print(f\"{n_final} total final particles\")"
   ]
  },
  {
   "cell_type": "code",
   "execution_count": null,
   "metadata": {},
   "outputs": [],
   "source": []
  }
 ],
 "metadata": {
  "kernelspec": {
   "display_name": "Python 3",
   "language": "python",
   "name": "python3"
  },
  "language_info": {
   "codemirror_mode": {
    "name": "ipython",
    "version": 3
   },
   "file_extension": ".py",
   "mimetype": "text/x-python",
   "name": "python",
   "nbconvert_exporter": "python",
   "pygments_lexer": "ipython3",
   "version": "3.7.9"
  },
  "varInspector": {
   "cols": {
    "lenName": 16,
    "lenType": 16,
    "lenVar": 40
   },
   "kernels_config": {
    "python": {
     "delete_cmd_postfix": "",
     "delete_cmd_prefix": "del ",
     "library": "var_list.py",
     "varRefreshCmd": "print(var_dic_list())"
    },
    "r": {
     "delete_cmd_postfix": ") ",
     "delete_cmd_prefix": "rm(",
     "library": "var_list.r",
     "varRefreshCmd": "cat(var_dic_list()) "
    }
   },
   "position": {
    "height": "295.6985168457031px",
    "left": "795.88232421875px",
    "right": "20px",
    "top": "120px",
    "width": "350px"
   },
   "types_to_exclude": [
    "module",
    "function",
    "builtin_function_or_method",
    "instance",
    "_Feature"
   ],
   "window_display": false
  }
 },
 "nbformat": 4,
 "nbformat_minor": 2
}
